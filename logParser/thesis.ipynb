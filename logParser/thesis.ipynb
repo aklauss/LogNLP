{
 "cells": [
  {
   "cell_type": "code",
   "execution_count": 1,
   "metadata": {},
   "outputs": [],
   "source": [
    "import spacy \n",
    "import stumpy as sp\n",
    "# import pandas as pd"
   ]
  },
  {
   "cell_type": "code",
   "execution_count": null,
   "metadata": {},
   "outputs": [],
   "source": []
  },
  {
   "cell_type": "code",
   "execution_count": 2,
   "metadata": {},
   "outputs": [],
   "source": [
    "nlp = spacy.load(\"en_core_web_sm\")\n"
   ]
  },
  {
   "cell_type": "code",
   "execution_count": 3,
   "metadata": {},
   "outputs": [],
   "source": [
    "log1_lines = [];\n",
    "with open('/workspace/LogNLP/Tests/logs/Andriod/Andriod_2k.log',encoding='utf-8') as log1:\n",
    "     for i in range(100):\n",
    "         log1_lines.append(nlp(log1.readline()))"
   ]
  },
  {
   "cell_type": "code",
   "execution_count": 4,
   "metadata": {},
   "outputs": [
    {
     "name": "stdout",
     "output_type": "stream",
     "text": [
      "03-17 16:13:38.811  1702  2395 D WindowManager: printFreezingDisplayLogsopening app wtoken = AppWindowToken{9f4ef63 token=Token{a64f992 ActivityRecord{de9231d u0 com.tencent.qt.qtl/.activity.info.NewsDetailXmlActivity t761}}}, allDrawn= false, startingDisplayed =  false, startingMoved =  false, isRelaunching =  false\n",
      "\n",
      "NUM 03 dd CD\n",
      "SYM - - SYM\n",
      "NUM 17 dd CD\n",
      "NUM 16:13:38.811 dd:dd:dd.ddd CD\n",
      "SPACE     _SP\n",
      "NUM 1702 dddd CD\n",
      "SPACE     _SP\n",
      "NUM 2395 dddd CD\n",
      "PROPN D X NNP\n",
      "PROPN WindowManager XxxxxXxxxx NNP\n",
      "PUNCT : : :\n",
      "VERB printFreezingDisplayLogsopening xxxxXxxxxXxxxxXxxxx VBG\n",
      "NOUN app xxx NN\n",
      "ADJ wtoken xxxx JJ\n",
      "PROPN = = NNP\n",
      "PROPN AppWindowToken{9f4ef63 XxxXxxxxXxxxx{dxdxxdd NNP\n",
      "VERB token xxxx VBN\n",
      "NOUN = = NN\n",
      "X Token{a64f992 Xxxxx{xddxddd XX\n",
      "ADJ ActivityRecord{de9231d XxxxxXxxxx{xxddddx JJR\n",
      "PROPN u0 xd NNP\n",
      "X com.tencent.qt.qtl/.activity.info.NewsDetailXmlActivity xxx.xxxx.xx.xxx/.xxxx.xxxx.XxxxXxxxxXxxXxxxx ADD\n",
      "ADV t761 xddd RB\n",
      "PUNCT } } -RRB-\n",
      "PUNCT } } -RRB-\n",
      "PUNCT } } -RRB-\n",
      "PUNCT , , ,\n",
      "PROPN allDrawn= xxxXxxxx= NNP\n",
      "ADJ false xxxx JJ\n",
      "PUNCT , , ,\n",
      "VERB startingDisplayed xxxxXxxxx VBN\n",
      "SYM = = SYM\n",
      "SPACE     _SP\n",
      "ADJ false xxxx JJ\n",
      "PUNCT , , ,\n",
      "VERB startingMoved xxxxXxxxx VBN\n",
      "PRON = = PRP$\n",
      "SPACE     _SP\n",
      "ADJ false xxxx JJ\n",
      "PUNCT , , ,\n",
      "VERB isRelaunching xxXxxxx VBG\n",
      "NOUN = = NN\n",
      "SPACE     _SP\n",
      "ADJ false xxxx JJ\n",
      "SPACE \n",
      " \n",
      " _SP\n"
     ]
    }
   ],
   "source": [
    "# Process nlp\n",
    "print(log1_lines[0])\n",
    "for token in log1_lines[0]:\n",
    "    print(token.pos_,token.text,token.shape_,token.tag_)"
   ]
  },
  {
   "cell_type": "code",
   "execution_count": 5,
   "metadata": {},
   "outputs": [
    {
     "name": "stdout",
     "output_type": "stream",
     "text": [
      "03-17 16:13:38.811  1702  2395 D WindowManager: printFreezingDisplayLogsopening app wtoken =\n",
      "AppWindowToken{9f4ef63 token\n",
      "=Token{a64f992 ActivityRecord{de9231d u0 com.tencent.qt.qtl/.activity.info.NewsDetailXmlActivity t761}}}, allDrawn= false, startingDisplayed =  false, startingMoved =  false, isRelaunching =  false\n",
      "\n"
     ]
    }
   ],
   "source": [
    "for sent in log1_lines[0].sents:\n",
    "    print(sent)"
   ]
  },
  {
   "cell_type": "code",
   "execution_count": 6,
   "metadata": {},
   "outputs": [
    {
     "name": "stdout",
     "output_type": "stream",
     "text": [
      "1702  2395 D WindowManager\n",
      "AppWindowToken{9f4ef63\n"
     ]
    }
   ],
   "source": [
    "for noun in log1_lines[0].noun_chunks:\n",
    "    print(noun.text)"
   ]
  },
  {
   "cell_type": "code",
   "execution_count": 7,
   "metadata": {},
   "outputs": [
    {
     "name": "stdout",
     "output_type": "stream",
     "text": [
      "03-17 CARDINAL\n",
      "16:13:38.811 CARDINAL\n",
      "2395 DATE\n"
     ]
    }
   ],
   "source": [
    "for ent in log1_lines[0].doc.ents:\n",
    "    print(ent.text,ent.label_)"
   ]
  }
 ],
 "metadata": {
  "kernelspec": {
   "display_name": "Python 3.8.13 64-bit ('3.8.13')",
   "language": "python",
   "name": "python3"
  },
  "language_info": {
   "codemirror_mode": {
    "name": "ipython",
    "version": 3
   },
   "file_extension": ".py",
   "mimetype": "text/x-python",
   "name": "python",
   "nbconvert_exporter": "python",
   "pygments_lexer": "ipython3",
   "version": "3.8.13"
  },
  "orig_nbformat": 4,
  "vscode": {
   "interpreter": {
    "hash": "110cc1dee26208153f2972f08a2ad52b6a56238dc66d48e87fb757ef2996db56"
   }
  }
 },
 "nbformat": 4,
 "nbformat_minor": 2
}
